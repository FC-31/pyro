{
 "cells": [
  {
   "cell_type": "markdown",
   "metadata": {},
   "source": [
    "# Gaussian Mixture Model"
   ]
  },
  {
   "cell_type": "code",
   "execution_count": 1,
   "metadata": {},
   "outputs": [],
   "source": [
    "import sys\n",
    "import torch\n",
    "import numpy as np\n",
    "import scipy.stats\n",
    "from torch.nn import Softmax\n",
    "from torch.autograd import Variable\n",
    "from matplotlib import pyplot\n",
    "%matplotlib inline\n",
    "\n",
    "import pyro\n",
    "from pyro.optim import Adam\n",
    "from pyro.infer.svi import SVI\n",
    "from pyro.distributions import bernoulli, categorical, delta, normal, dirichlet, gamma, normal\n",
    "from pyro.util import ng_zeros, ng_ones\n",
    "softmax = Softmax(dim=-1)"
   ]
  },
  {
   "cell_type": "markdown",
   "metadata": {},
   "source": [
    "## Dataset\n",
    "\n",
    "Here is our tiny dataset. It has five points."
   ]
  },
  {
   "cell_type": "code",
   "execution_count": 2,
   "metadata": {},
   "outputs": [],
   "source": [
    "data = Variable(torch.Tensor([0, 1, 10, 11, 12]))"
   ]
  },
  {
   "cell_type": "markdown",
   "metadata": {},
   "source": [
    "## Maximum likelihood approach\n",
    "\n",
    "Let's start by optimizing model parameters `ps`, `mu`, and `sigma`, rather than treating them as random variables with priors."
   ]
  },
  {
   "cell_type": "code",
   "execution_count": 78,
   "metadata": {},
   "outputs": [],
   "source": [
    "K = 2  # Fixed number of components.\n",
    "\n",
    "def model(data):\n",
    "    # Global parameters.\n",
    "    ps = softmax(pyro.param('pre_ps', Variable(torch.zeros(K), requires_grad=True)))\n",
    "    ps = ps.view(1, -1).expand(len(data), -1)\n",
    "    mu = pyro.param('mu', Variable(torch.normal(torch.zeros(K), torch.ones(K)),\n",
    "                                   requires_grad=True))\n",
    "    sigma = pyro.param('sigma', Variable(torch.Tensor([0.2]), requires_grad=True))\n",
    "\n",
    "    # Local parameters.\n",
    "    with pyro.iarange('data'):\n",
    "        z = pyro.sample('z', categorical, ps).squeeze(-1)\n",
    "        mu_z = mu.index_select(0, z).unsqueeze(-1)\n",
    "        pyro.sample('x', normal, mu_z, sigma.expand_as(mu_z), obs=data.unsqueeze(-1))\n",
    "\n",
    "def guide(data):\n",
    "    with pyro.iarange('data'):\n",
    "        p = softmax(pyro.param('pre_p', Variable(torch.zeros(len(data), K), requires_grad=True)))\n",
    "        pyro.sample('z', categorical, p)"
   ]
  },
  {
   "cell_type": "markdown",
   "metadata": {},
   "source": [
    "We'd like to implement EM by summing rather than sampling on the line marked \"SAMPLE\"."
   ]
  },
  {
   "cell_type": "code",
   "execution_count": 100,
   "metadata": {},
   "outputs": [],
   "source": [
    "optim = pyro.optim.Adam({'lr': 0.1})\n",
    "inference = SVI(model, guide, optim, 'ELBO', enum_discrete=True)"
   ]
  },
  {
   "cell_type": "code",
   "execution_count": 101,
   "metadata": {
    "scrolled": true
   },
   "outputs": [
    {
     "name": "stdout",
     "output_type": "stream",
     "text": [
      "Automatic pdb calling has been turned OFF\n",
      "\n",
      "...............................................................................\n",
      "...............................................................................\n",
      "......................................."
     ]
    }
   ],
   "source": [
    "%pdb off\n",
    "pyro.set_rng_seed(0)\n",
    "pyro.get_param_store().clear()  # See https://github.com/uber/pyro/issues/175\n",
    "iters = []\n",
    "loss = []\n",
    "for i in range(200):\n",
    "    inference.step(data)\n",
    "    if i % 1 == 0:\n",
    "        iters.append(i)\n",
    "        loss.append(inference.step(data))\n",
    "        sys.stdout.write('.' if i % 80 else '\\n')\n",
    "        sys.stdout.flush()"
   ]
  },
  {
   "cell_type": "code",
   "execution_count": 102,
   "metadata": {},
   "outputs": [
    {
     "data": {
      "image/png": "[encoded data removed]",
      "text/plain": [
       "<matplotlib.figure.Figure at 0x118b48790>"
      ]
     },
     "metadata": {},
     "output_type": "display_data"
    }
   ],
   "source": [
    "pyplot.figure(figsize=(8,4)).set_facecolor('#cccccc')\n",
    "pyplot.plot(iters, loss)\n",
    "pyplot.xlabel('iters')\n",
    "pyplot.ylabel('loss')\n",
    "pyplot.yscale('log')"
   ]
  },
  {
   "cell_type": "code",
   "execution_count": 103,
   "metadata": {},
   "outputs": [
    {
     "name": "stdout",
     "output_type": "stream",
     "text": [
      "mu = [ 8.96768475  0.62960809]\n",
      "sigma = [ 1.51783884]\n"
     ]
    }
   ],
   "source": [
    "ps = softmax(pyro.param('pre_ps'))\n",
    "mu = pyro.param('mu')\n",
    "sigma = pyro.param('sigma')\n",
    "print('mu = {}'.format(mu.data.numpy()))\n",
    "print('sigma = {}'.format(sigma.data.numpy()))"
   ]
  },
  {
   "cell_type": "code",
   "execution_count": 104,
   "metadata": {},
   "outputs": [
    {
     "data": {
      "text/plain": [
       "Text(0,0.5,u'probability density')"
      ]
     },
     "execution_count": 104,
     "metadata": {},
     "output_type": "execute_result"
    },
    {
     "data": {
      "image/png": "[encoded data removed]",
      "text/plain": [
       "<matplotlib.figure.Figure at 0x118ccbd50>"
      ]
     },
     "metadata": {},
     "output_type": "display_data"
    }
   ],
   "source": [
    "X = np.arange(-5,20,0.1)\n",
    "Y1 = ps.data[0] * scipy.stats.norm.pdf((X - mu.data[0]) / sigma.data[0])\n",
    "Y2 = ps.data[1] * scipy.stats.norm.pdf((X - mu.data[1]) / sigma.data[0])\n",
    "\n",
    "pyplot.figure(figsize=(8, 4)).set_facecolor('#cccccc')\n",
    "pyplot.plot(X, Y1, 'r--')\n",
    "pyplot.plot(X, Y2, 'b--')\n",
    "pyplot.plot(X, Y1 + Y2, 'k-')\n",
    "pyplot.plot(data.data.numpy(), np.zeros(len(data)), 'k*')\n",
    "pyplot.title('Densitiy of two-component mixture model')\n",
    "pyplot.ylabel('probability density')"
   ]
  },
  {
   "cell_type": "code",
   "execution_count": null,
   "metadata": {},
   "outputs": [],
   "source": []
  },
  {
   "cell_type": "markdown",
   "metadata": {},
   "source": [
    "## Fully Bayesian aproach\n",
    "\n",
    "Next we'll treat `ps`, `mu`, and `sigma` as random variables.\n",
    "\n",
    "TODO"
   ]
  },
  {
   "cell_type": "code",
   "execution_count": null,
   "metadata": {},
   "outputs": [],
   "source": []
  }
 ],
 "metadata": {
  "kernelspec": {
   "display_name": "Python 2",
   "language": "python",
   "name": "python2"
  },
  "language_info": {
   "codemirror_mode": {
    "name": "ipython",
    "version": 2
   },
   "file_extension": ".py",
   "mimetype": "text/x-python",
   "name": "python",
   "nbconvert_exporter": "python",
   "pygments_lexer": "ipython2",
   "version": "2.7.13"
  }
 },
 "nbformat": 4,
 "nbformat_minor": 2
}
