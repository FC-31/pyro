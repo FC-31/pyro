{
 "cells": [
  {
   "cell_type": "markdown",
   "metadata": {},
   "source": [
    "# Gaussian Mixture Model"
   ]
  },
  {
   "cell_type": "code",
   "execution_count": 1,
   "metadata": {},
   "outputs": [],
   "source": [
    "import sys\n",
    "import torch\n",
    "import numpy as np\n",
    "import scipy.stats\n",
    "from torch.nn import Softmax\n",
    "from torch.autograd import Variable\n",
    "from matplotlib import pyplot\n",
    "%matplotlib inline\n",
    "\n",
    "import pyro\n",
    "from pyro.optim import Adam\n",
    "from pyro.infer.svi import SVI\n",
    "from pyro.distributions import bernoulli, categorical, delta, normal, dirichlet, gamma, normal\n",
    "from pyro.util import ng_zeros, ng_ones\n",
    "softmax = Softmax()"
   ]
  },
  {
   "cell_type": "markdown",
   "metadata": {},
   "source": [
    "## Dataset\n",
    "\n",
    "Here is our tiny dataset. It has five points."
   ]
  },
  {
   "cell_type": "code",
   "execution_count": 2,
   "metadata": {},
   "outputs": [],
   "source": [
    "data = Variable(torch.Tensor([0, 1, 10, 11, 12]))"
   ]
  },
  {
   "cell_type": "markdown",
   "metadata": {},
   "source": [
    "## Maximum likelihood approach\n",
    "\n",
    "Let's start by optimizing model parameters `ps`, `mu`, and `sigma`, rather than treating them as random variables with priors."
   ]
  },
  {
   "cell_type": "code",
   "execution_count": 3,
   "metadata": {},
   "outputs": [],
   "source": [
    "K = 2  # Fixed number of components.\n",
    "z_values = np.array(range(K), dtype=np.int)\n",
    "\n",
    "def model(data):\n",
    "    # Global parameters.\n",
    "    ps = softmax(pyro.param('pre_ps', Variable(torch.zeros(K),\n",
    "                                               requires_grad=True)))\n",
    "    mu = pyro.param('mu', Variable(torch.normal(torch.zeros(K), torch.ones(K)),\n",
    "                                   requires_grad=True))\n",
    "    sigma = pyro.param('sigma', Variable(torch.ones(1), requires_grad=True))\n",
    "\n",
    "    # Local parameters.\n",
    "    for i in pyro.irange('data', len(data)):\n",
    "        z = pyro.sample('z_{}'.format(i), categorical, ps).data[0]\n",
    "        pyro.observe('x_{}'.format(i), normal, data[i], mu[z], sigma)\n",
    "\n",
    "def guide(data):\n",
    "    for i in pyro.irange('data', len(data)):\n",
    "        p = softmax(pyro.param('pre_p_{}'.format(i), Variable(torch.zeros(K),\n",
    "                                                              requires_grad=True)))\n",
    "        pyro.sample('z_{}'.format(i), categorical, p)"
   ]
  },
  {
   "cell_type": "code",
   "execution_count": 4,
   "metadata": {},
   "outputs": [
    {
     "name": "stderr",
     "output_type": "stream",
     "text": [
      "/Users/fritzobermeyer/miniconda2/lib/python2.7/site-packages/ipykernel_launcher.py:1: UserWarning: Implicit dimension choice for softmax has been deprecated. Change the call to include dim=X as an argument.\n",
      "  \"\"\"Entry point for launching an IPython kernel.\n"
     ]
    },
    {
     "data": {
      "text/plain": [
       "Variable containing:\n",
       " 0\n",
       " 1\n",
       "[torch.FloatTensor of size 2x1]"
      ]
     },
     "execution_count": 4,
     "metadata": {},
     "output_type": "execute_result"
    }
   ],
   "source": [
    "ps = softmax(Variable(torch.zeros(1, K)))\n",
    "c = pyro.distributions.Bernoulli(ps[:, 1])\n",
    "c.enumerate_support()"
   ]
  },
  {
   "cell_type": "markdown",
   "metadata": {},
   "source": [
    "We'd like to implement EM by summing rather than sampling on the line marked \"SAMPLE\"."
   ]
  },
  {
   "cell_type": "code",
   "execution_count": 5,
   "metadata": {},
   "outputs": [],
   "source": [
    "optim = pyro.optim.Adam({'lr': 0.1})\n",
    "inference = SVI(model, guide, optim, 'ELBO', enum_discrete=True)"
   ]
  },
  {
   "cell_type": "code",
   "execution_count": 6,
   "metadata": {},
   "outputs": [
    {
     "name": "stderr",
     "output_type": "stream",
     "text": [
      "/Users/fritzobermeyer/miniconda2/lib/python2.7/site-packages/ipykernel_launcher.py:20: UserWarning: Implicit dimension choice for softmax has been deprecated. Change the call to include dim=X as an argument.\n",
      "/Users/fritzobermeyer/miniconda2/lib/python2.7/site-packages/ipykernel_launcher.py:7: UserWarning: Implicit dimension choice for softmax has been deprecated. Change the call to include dim=X as an argument.\n",
      "  import sys\n"
     ]
    },
    {
     "name": "stdout",
     "output_type": "stream",
     "text": [
      "Automatic pdb calling has been turned OFF\n",
      "\n",
      "................................................."
     ]
    }
   ],
   "source": [
    "%pdb off\n",
    "pyro.set_rng_seed(0)\n",
    "pyro.get_param_store().clear()  # See https://github.com/uber/pyro/issues/175\n",
    "iters = []\n",
    "loss = []\n",
    "for i in range(50):\n",
    "    inference.step(data)\n",
    "    if i % 1 == 0:\n",
    "        iters.append(i)\n",
    "        loss.append(inference.step(data))\n",
    "        sys.stdout.write('.' if i % 80 else '\\n')\n",
    "        sys.stdout.flush()"
   ]
  },
  {
   "cell_type": "code",
   "execution_count": 7,
   "metadata": {},
   "outputs": [
    {
     "data": {
      "image/png": "[encoded data removed]",
      "text/plain": [
       "<matplotlib.figure.Figure at 0x104b1a990>"
      ]
     },
     "metadata": {},
     "output_type": "display_data"
    }
   ],
   "source": [
    "pyplot.figure(figsize=(8,4)).set_facecolor('#cccccc')\n",
    "pyplot.plot(iters, loss)\n",
    "pyplot.xlabel('iters')\n",
    "pyplot.ylabel('loss')\n",
    "pyplot.yscale('log')"
   ]
  },
  {
   "cell_type": "code",
   "execution_count": 8,
   "metadata": {},
   "outputs": [
    {
     "name": "stderr",
     "output_type": "stream",
     "text": [
      "/Users/fritzobermeyer/miniconda2/lib/python2.7/site-packages/ipykernel_launcher.py:1: UserWarning: Implicit dimension choice for softmax has been deprecated. Change the call to include dim=X as an argument.\n",
      "  \"\"\"Entry point for launching an IPython kernel.\n"
     ]
    }
   ],
   "source": [
    "ps = softmax(pyro.param('pre_ps'))\n",
    "mu = pyro.param('mu')\n",
    "sigma = pyro.param('sigma')"
   ]
  },
  {
   "cell_type": "code",
   "execution_count": 9,
   "metadata": {},
   "outputs": [
    {
     "data": {
      "text/plain": [
       "Text(0,0.5,u'probability density')"
      ]
     },
     "execution_count": 9,
     "metadata": {},
     "output_type": "execute_result"
    },
    {
     "data": {
      "image/png": "[encoded data removed]",
      "text/plain": [
       "<matplotlib.figure.Figure at 0x10f200190>"
      ]
     },
     "metadata": {},
     "output_type": "display_data"
    }
   ],
   "source": [
    "X = np.arange(-5,20,0.1)\n",
    "Y1 = ps.data[0] * scipy.stats.norm.pdf((X - mu.data[0]) / sigma.data[0])\n",
    "Y2 = ps.data[1] * scipy.stats.norm.pdf((X - mu.data[1]) / sigma.data[0])\n",
    "\n",
    "pyplot.figure(figsize=(8, 4)).set_facecolor('#cccccc')\n",
    "pyplot.plot(X, Y1, 'r--')\n",
    "pyplot.plot(X, Y2, 'b--')\n",
    "pyplot.plot(X, Y1 + Y2, 'k-')\n",
    "pyplot.plot(data.data.numpy(), np.zeros(len(data)), 'k*')\n",
    "pyplot.title('Densitiy of two-component mixture model')\n",
    "pyplot.ylabel('probability density')"
   ]
  },
  {
   "cell_type": "code",
   "execution_count": null,
   "metadata": {},
   "outputs": [],
   "source": []
  },
  {
   "cell_type": "markdown",
   "metadata": {},
   "source": [
    "## Fully Bayesian aproach\n",
    "\n",
    "Next we'll treat `ps`, `mu`, and `sigma` as random variables.\n",
    "\n",
    "TODO"
   ]
  },
  {
   "cell_type": "code",
   "execution_count": null,
   "metadata": {},
   "outputs": [],
   "source": []
  }
 ],
 "metadata": {
  "kernelspec": {
   "display_name": "Python 2",
   "language": "python",
   "name": "python2"
  },
  "language_info": {
   "codemirror_mode": {
    "name": "ipython",
    "version": 2
   },
   "file_extension": ".py",
   "mimetype": "text/x-python",
   "name": "python",
   "nbconvert_exporter": "python",
   "pygments_lexer": "ipython2",
   "version": "2.7.13"
  }
 },
 "nbformat": 4,
 "nbformat_minor": 2
}
